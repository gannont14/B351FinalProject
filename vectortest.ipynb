{
 "cells": [
  {
   "cell_type": "code",
   "execution_count": 18,
   "metadata": {},
   "outputs": [],
   "source": [
    "import importlib\n",
    "import driver \n",
    "importlib.reload(driver)\n",
    "from driver import Driver"
   ]
  },
  {
   "cell_type": "code",
   "execution_count": 19,
   "metadata": {},
   "outputs": [],
   "source": [
    "import gensim.downloader as api\n",
    "glove_model = api.load('glove-wiki-gigaword-300')"
   ]
  },
  {
   "cell_type": "code",
   "execution_count": 22,
   "metadata": {},
   "outputs": [
    {
     "name": "stdout",
     "output_type": "stream",
     "text": [
      "Initing with Firefox drive Type\n",
      "Recent: thing\n",
      "Recent: idea\n",
      "Recent: really\n",
      "Best guess Score: 256, : thing\n",
      "cd guesses: {}\n",
      "Recent: think\n",
      "Guessing: think with score of 0.8916594982147217\n",
      "Recent: something\n",
      "Guessing: something with score of 0.8796228170394897\n",
      "Recent: know\n",
      "Guessing: know with score of 0.8595728278160095\n",
      "element doesn't exist\n",
      "Recent: None\n",
      "Guessing: things with score of 0.8498430252075195\n",
      "Recent: kind\n",
      "Guessing: kind with score of 0.8191278576850891\n",
      "Guesses at the end: {}\n"
     ]
    }
   ],
   "source": [
    "cd = Driver(\"Firefox\")\n",
    "\n",
    "# Create first words to guess\n",
    "initialGuesses = [\"thing\", \"idea\", \"really\"]\n",
    "cd.guessWords(initialGuesses)\n",
    "bestGuessScore, bestGuessText = cd.getBestGuess()\n",
    "print(f\"Best guess Score: {bestGuessScore}, : {bestGuessText}\")\n",
    "print(f\"cd guesses: {cd.guesses}\")\n",
    "\n",
    "# Pull best guess from these, \n",
    "similar = [bestGuessText]\n",
    "mostSimilar = glove_model.most_similar(similar)\n",
    "N = 5\n",
    "guessedWords = []\n",
    "topNMostSimilarGuesses = mostSimilar[:N]\n",
    "for guess in topNMostSimilarGuesses:\n",
    "    if guess not in guessedWords:\n",
    "        guessedWords.append(guess)\n",
    "        recentWord, recentScore = cd.guessWord(guess[0])\n",
    "        print(f\"Guessing: {guess[0]} with score of {guess[1]}\")\n",
    "        # break\n",
    "    else:\n",
    "        print(f\"word: {guess[0]} already guessed\")\n",
    "\n",
    "print(f\"Guesses at the end: {cd.guesses}\")\n",
    "\n"
   ]
  }
 ],
 "metadata": {
  "language_info": {
   "name": "python"
  },
  "orig_nbformat": 4
 },
 "nbformat": 4,
 "nbformat_minor": 2
}
